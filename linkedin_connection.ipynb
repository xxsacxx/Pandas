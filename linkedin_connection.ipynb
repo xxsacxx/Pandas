{
 "cells": [
  {
   "cell_type": "code",
   "execution_count": 128,
   "metadata": {},
   "outputs": [],
   "source": [
    "import pandas as pd #for EDA\n"
   ]
  },
  {
   "cell_type": "code",
   "execution_count": 2,
   "metadata": {},
   "outputs": [],
   "source": [
    "df=pd.read_csv('Connections.csv') #reading the file"
   ]
  },
  {
   "cell_type": "code",
   "execution_count": 3,
   "metadata": {
    "scrolled": true
   },
   "outputs": [
    {
     "name": "stdout",
     "output_type": "stream",
     "text": [
      "Index(['First Name', 'Last Name', 'Email Address', 'Company', 'Position',\n",
      "       'Connected On'],\n",
      "      dtype='object')\n"
     ]
    }
   ],
   "source": [
    "print(df.columns)"
   ]
  },
  {
   "cell_type": "code",
   "execution_count": 4,
   "metadata": {},
   "outputs": [],
   "source": [
    "Connections = df.loc[df['Position'].notnull(), ['First Name','Last Name', 'Company', 'Connected On','Position']] \n",
    "#Found that Position(column) has lots of null values so dropping all the rows having the null values in Position(column)\n"
   ]
  },
  {
   "cell_type": "code",
   "execution_count": 5,
   "metadata": {},
   "outputs": [
    {
     "data": {
      "text/plain": [
       "False"
      ]
     },
     "execution_count": 5,
     "metadata": {},
     "output_type": "execute_result"
    }
   ],
   "source": [
    "Connections.isnull().values.any() \n",
    "#checking if df has still any null values"
   ]
  },
  {
   "cell_type": "code",
   "execution_count": 129,
   "metadata": {
    "scrolled": true
   },
   "outputs": [
    {
     "data": {
      "text/plain": [
       "Amazon                       21\n",
       "Tata Consultancy Services    19\n",
       "Informatica                  18\n",
       "Infosys                      16\n",
       "Accenture                    14\n",
       "Name: Company, dtype: int64"
      ]
     },
     "execution_count": 129,
     "metadata": {},
     "output_type": "execute_result"
    }
   ],
   "source": [
    "#Checking the no. of connections for each company(head() displays top 5)\n",
    "(Connections.Company.value_counts().head())"
   ]
  },
  {
   "cell_type": "code",
   "execution_count": 131,
   "metadata": {},
   "outputs": [
    {
     "data": {
      "text/plain": [
       "Data Scientist       91\n",
       "Software Engineer    55\n",
       "Data Analyst         33\n",
       "Founder              30\n",
       "Intern               18\n",
       "Name: Position, dtype: int64"
      ]
     },
     "execution_count": 131,
     "metadata": {},
     "output_type": "execute_result"
    }
   ],
   "source": [
    "#Checking the no. of connections for each company(head() displays top 5)\n",
    "(Connections.Position.value_counts().head())\n"
   ]
  },
  {
   "cell_type": "code",
   "execution_count": 76,
   "metadata": {},
   "outputs": [],
   "source": [
    "#Creating the df which is grouped by the company for the HR|Recruiter|Acquition containing Position \n",
    "HRs=Connections.loc[(Connections['Position'].str.contains('HR|Recruiter|Acquition'))].groupby('Company')"
   ]
  },
  {
   "cell_type": "code",
   "execution_count": 77,
   "metadata": {},
   "outputs": [],
   "source": [
    "#Makning the dict of the above df ,where the key values are the name of the companies\n",
    "groups = dict(list(HRs))"
   ]
  },
  {
   "cell_type": "code",
   "execution_count": 92,
   "metadata": {},
   "outputs": [],
   "source": [
    "company=[]"
   ]
  },
  {
   "cell_type": "code",
   "execution_count": 93,
   "metadata": {},
   "outputs": [
    {
     "name": "stdout",
     "output_type": "stream",
     "text": [
      "61\n"
     ]
    }
   ],
   "source": [
    "i=0\n",
    "for key in groups:\n",
    "    company.append(key)\n",
    "    i+=1\n",
    "print(i)"
   ]
  },
  {
   "cell_type": "code",
   "execution_count": 94,
   "metadata": {},
   "outputs": [
    {
     "name": "stdout",
     "output_type": "stream",
     "text": [
      "['Accenture', 'Adam Infotech', 'Affine Analytics', 'Aganitha Cognitive Solutions', 'Amazon', 'Archies Lifestyle', 'BMS INNOLABS PVT LTD', 'Betaout', 'BookMyForex', 'CodeNation', 'Condé Nast India', 'CutShort', 'CybOrg Technologies', 'Edureka', 'Ejento', 'Enterprise IT Solutions', 'Facebook', 'Flipkart', 'Forsys Inc', 'Freelancer', 'Google', 'HCL Technologies', 'HERE Technologies', 'Helpshift', 'HireCraft Software Pvt Ltd', 'HireStrategy', 'Hortonworks', 'Humain Diagnostics', 'InMobi', 'Indigo Infraprojects Pvt. Ltd.', 'Infosoft, Inc.', 'Juego Studio Private Limited', 'KLA-Tencor', 'Myntra', 'NextGen Invent Corporation', 'Ola (ANI Technologies Pvt. Ltd)', 'Oodles Technologies Pvt Ltd', 'Phoenix Staff, Inc.', 'Publicis.Sapient', 'Quess Corp Limited', 'Reliance Industries Limited', 'SQUARE_PIXEL', 'Self-employed', 'Simplotel', 'Smartron', 'Stryker', 'Tangoe', 'TekVizor', 'Triune Infomatics Inc', 'Uber', 'Uneecops Technologies Ltd.', 'VBeyond Corporation', 'VMware', 'Velankani Electronics Pvt Ltd', 'Virtual Height IT Services PVT LTD', 'Walmart', 'YASH Technologies', 'Yahoo', 'Youth4work', 'iQLabs Staffing', 'iWare Consultancy Services']\n"
     ]
    }
   ],
   "source": [
    "print(company)"
   ]
  },
  {
   "cell_type": "code",
   "execution_count": 95,
   "metadata": {},
   "outputs": [],
   "source": [
    "#Converting it into Series, because I love Pandas :)\n",
    "\n",
    "Fav_cmpany=pd.Series(company)"
   ]
  },
  {
   "cell_type": "code",
   "execution_count": 103,
   "metadata": {},
   "outputs": [],
   "source": [
    "#Selecting my favt cmpny\n",
    "Fav_cmpany=Fav_cmpany[Fav_cmpany.str.contains('Ola|Uber|Google|Flip|Amazon|Edur')],index[0]"
   ]
  },
  {
   "cell_type": "code",
   "execution_count": 118,
   "metadata": {},
   "outputs": [],
   "source": [
    "df=pd.DataFrame()"
   ]
  },
  {
   "cell_type": "code",
   "execution_count": 123,
   "metadata": {},
   "outputs": [
    {
     "name": "stdout",
     "output_type": "stream",
     "text": [
      "     First Name     Last Name Company Connected On             Position\n",
      "117      Tamara  Rea Thompson  Amazon  24 Sep 2018  Technical Recruiter\n",
      "1963      Burma           Ram  Amazon  18 Jan 2018            Recruiter\n",
      "1970     Kishor      Pinninti  Amazon  10 Jan 2018            Recruiter\n",
      "     First Name Last Name  Company Connected On  \\\n",
      "1294     Shreya       Roy  Edureka  14 May 2018   \n",
      "\n",
      "                              Position  \n",
      "1294  Senior Associate - HR Operations  \n",
      "     First Name Last Name   Company Connected On               Position\n",
      "3         Manoj    Mishra  Flipkart  19 Nov 2018            Director HR\n",
      "1858    Raginee    Kumari  Flipkart  10 Apr 2018  Engineering Recruiter\n",
      "     First Name Last Name Company Connected On  \\\n",
      "76        Priya    Sharma  Google  30 Oct 2018   \n",
      "307      Justin   Flam ⛅️  Google  16 Jul 2018   \n",
      "1924   Shashank  Chikodi   Google  18 Mar 2018   \n",
      "\n",
      "                                   Position  \n",
      "76                               HR Manager  \n",
      "307                 Recruiter-Google Cloud   \n",
      "1924  Techincal Recruiter Google Cloud Apac  \n",
      "   First Name Last Name                          Company Connected On  \\\n",
      "14  Meenakshi     Kohli  Ola (ANI Technologies Pvt. Ltd)  11 Nov 2018   \n",
      "\n",
      "      Position  \n",
      "14  HR Manager  \n",
      "       First Name Last Name Company Connected On                     Position\n",
      "369         Raman    Thakur    Uber  11 Jul 2018   Senior Technical Recruiter\n",
      "1962  Achuthanand      Ravi    Uber  19 Jan 2018  Technical Recruiter - EMEA \n"
     ]
    }
   ],
   "source": [
    "#Displays the HRs of my Fav_cmpany\n",
    "for index in Fav_cmpany.index:\n",
    "    print(HRs.get_group(Fav_cmpany[index]))"
   ]
  },
  {
   "cell_type": "code",
   "execution_count": 127,
   "metadata": {},
   "outputs": [
    {
     "name": "stdout",
     "output_type": "stream",
     "text": [
      "Amazon\n",
      "Recruiter              2\n",
      "Technical Recruiter    1\n",
      "Name: Position, dtype: int64\n",
      "Edureka\n",
      "Senior Associate - HR Operations    1\n",
      "Name: Position, dtype: int64\n",
      "Flipkart\n",
      "Engineering Recruiter    1\n",
      "Director HR              1\n",
      "Name: Position, dtype: int64\n",
      "Google\n",
      "Techincal Recruiter Google Cloud Apac    1\n",
      "Recruiter-Google Cloud                   1\n",
      "HR Manager                               1\n",
      "Name: Position, dtype: int64\n",
      "Ola (ANI Technologies Pvt. Ltd)\n",
      "HR Manager    1\n",
      "Name: Position, dtype: int64\n",
      "Uber\n",
      "Technical Recruiter - EMEA     1\n",
      "Senior Technical Recruiter     1\n",
      "Name: Position, dtype: int64\n"
     ]
    }
   ],
   "source": [
    "for index in Fav_cmpany.index:\n",
    "    print(Fav_cmpany[index])\n",
    "    print(HRs.get_group(Fav_cmpany[index]).Position.value_counts())\n",
    "    \n",
    "    \n"
   ]
  }
 ],
 "metadata": {
  "kernelspec": {
   "display_name": "Python 3",
   "language": "python",
   "name": "python3"
  },
  "language_info": {
   "codemirror_mode": {
    "name": "ipython",
    "version": 3
   },
   "file_extension": ".py",
   "mimetype": "text/x-python",
   "name": "python",
   "nbconvert_exporter": "python",
   "pygments_lexer": "ipython3",
   "version": "3.6.5"
  }
 },
 "nbformat": 4,
 "nbformat_minor": 2
}
