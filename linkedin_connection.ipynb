{
 "cells": [
  {
   "cell_type": "code",
   "execution_count": 6,
   "metadata": {},
   "outputs": [],
   "source": [
    "import pandas as pd #for EDA\n"
   ]
  },
  {
   "cell_type": "code",
   "execution_count": 7,
   "metadata": {},
   "outputs": [],
   "source": [
    "df=pd.read_csv('Connections.csv') #reading the file"
   ]
  },
  {
   "cell_type": "code",
   "execution_count": 8,
   "metadata": {
    "scrolled": true
   },
   "outputs": [
    {
     "name": "stdout",
     "output_type": "stream",
     "text": [
      "Index(['First Name', 'Last Name', 'Email Address', 'Company', 'Position',\n",
      "       'Connected On'],\n",
      "      dtype='object')\n"
     ]
    }
   ],
   "source": [
    "print(df.columns)"
   ]
  },
  {
   "cell_type": "code",
   "execution_count": 9,
   "metadata": {},
   "outputs": [],
   "source": [
    "Connections = df.loc[df['Position'].notnull(), ['First Name','Last Name', 'Company', 'Connected On','Position']] \n",
    "#Found that Position(column) has lots of null values so dropping all the rows having the null values in Position(column)\n"
   ]
  },
  {
   "cell_type": "code",
   "execution_count": 10,
   "metadata": {},
   "outputs": [
    {
     "data": {
      "text/plain": [
       "False"
      ]
     },
     "execution_count": 10,
     "metadata": {},
     "output_type": "execute_result"
    }
   ],
   "source": [
    "Connections.isnull().values.any() \n",
    "#checking if df has still any null values"
   ]
  },
  {
   "cell_type": "code",
   "execution_count": 11,
   "metadata": {
    "scrolled": true
   },
   "outputs": [
    {
     "data": {
      "text/plain": [
       "Amazon                       21\n",
       "Tata Consultancy Services    19\n",
       "Informatica                  18\n",
       "Infosys                      16\n",
       "Accenture                    14\n",
       "Name: Company, dtype: int64"
      ]
     },
     "execution_count": 11,
     "metadata": {},
     "output_type": "execute_result"
    }
   ],
   "source": [
    "#Checking the no. of connections for each company(head() displays top 5)\n",
    "(Connections.Company.value_counts().head())"
   ]
  },
  {
   "cell_type": "code",
   "execution_count": 12,
   "metadata": {},
   "outputs": [
    {
     "data": {
      "text/plain": [
       "Data Scientist       91\n",
       "Software Engineer    55\n",
       "Data Analyst         33\n",
       "Founder              30\n",
       "Intern               18\n",
       "Name: Position, dtype: int64"
      ]
     },
     "execution_count": 12,
     "metadata": {},
     "output_type": "execute_result"
    }
   ],
   "source": [
    "#Checking the no. of connections for each company(head() displays top 5)\n",
    "(Connections.Position.value_counts().head())\n"
   ]
  },
  {
   "cell_type": "code",
   "execution_count": 13,
   "metadata": {},
   "outputs": [],
   "source": [
    "#Creating the df which is grouped by the company for the HR|Recruiter|Acquition containing Position \n",
    "HRs=Connections.loc[(Connections['Position'].str.contains('HR|Recruiter|Acquition'))].groupby('Company')"
   ]
  },
  {
   "cell_type": "code",
   "execution_count": 14,
   "metadata": {},
   "outputs": [],
   "source": [
    "#Makning the dict of the above df ,where the key values are the name of the companies\n",
    "groups = dict(list(HRs))"
   ]
  },
  {
   "cell_type": "code",
   "execution_count": 15,
   "metadata": {},
   "outputs": [],
   "source": [
    "company=[]"
   ]
  },
  {
   "cell_type": "code",
   "execution_count": 16,
   "metadata": {},
   "outputs": [
    {
     "name": "stdout",
     "output_type": "stream",
     "text": [
      "61\n"
     ]
    }
   ],
   "source": [
    "i=0\n",
    "for key in groups:\n",
    "    company.append(key)\n",
    "    i+=1\n",
    "print(i)"
   ]
  },
  {
   "cell_type": "code",
   "execution_count": 17,
   "metadata": {},
   "outputs": [
    {
     "name": "stdout",
     "output_type": "stream",
     "text": [
      "['Accenture', 'Adam Infotech', 'Affine Analytics', 'Aganitha Cognitive Solutions', 'Amazon', 'Archies Lifestyle', 'BMS INNOLABS PVT LTD', 'Betaout', 'BookMyForex', 'CodeNation', 'Condé Nast India', 'CutShort', 'CybOrg Technologies', 'Edureka', 'Ejento', 'Enterprise IT Solutions', 'Facebook', 'Flipkart', 'Forsys Inc', 'Freelancer', 'Google', 'HCL Technologies', 'HERE Technologies', 'Helpshift', 'HireCraft Software Pvt Ltd', 'HireStrategy', 'Hortonworks', 'Humain Diagnostics', 'InMobi', 'Indigo Infraprojects Pvt. Ltd.', 'Infosoft, Inc.', 'Juego Studio Private Limited', 'KLA-Tencor', 'Myntra', 'NextGen Invent Corporation', 'Ola (ANI Technologies Pvt. Ltd)', 'Oodles Technologies Pvt Ltd', 'Phoenix Staff, Inc.', 'Publicis.Sapient', 'Quess Corp Limited', 'Reliance Industries Limited', 'SQUARE_PIXEL', 'Self-employed', 'Simplotel', 'Smartron', 'Stryker', 'Tangoe', 'TekVizor', 'Triune Infomatics Inc', 'Uber', 'Uneecops Technologies Ltd.', 'VBeyond Corporation', 'VMware', 'Velankani Electronics Pvt Ltd', 'Virtual Height IT Services PVT LTD', 'Walmart', 'YASH Technologies', 'Yahoo', 'Youth4work', 'iQLabs Staffing', 'iWare Consultancy Services']\n"
     ]
    }
   ],
   "source": [
    "print(company)"
   ]
  },
  {
   "cell_type": "code",
   "execution_count": 18,
   "metadata": {},
   "outputs": [],
   "source": [
    "#Converting it into Series, because I love Pandas :)\n",
    "\n",
    "Fav_cmpany=pd.Series(company)"
   ]
  },
  {
   "cell_type": "code",
   "execution_count": 20,
   "metadata": {},
   "outputs": [],
   "source": [
    "#Selecting my favt cmpny\n",
    "Fav_cmpany=Fav_cmpany[Fav_cmpany.str.contains('Ola|Uber|Google|Flip|Amazon|Edur')]"
   ]
  },
  {
   "cell_type": "code",
   "execution_count": 35,
   "metadata": {},
   "outputs": [],
   "source": [
    "#Displays the HRs of my Fav_cmpany\n",
    "for index in Fav_cmpany.index:\n",
    "    \"\"\"below line will print the HRs of your fav.cmpny\n",
    "    print(HRs.get_group(Fav_cmpany[index]))\"\"\""
   ]
  },
  {
   "cell_type": "code",
   "execution_count": 26,
   "metadata": {},
   "outputs": [
    {
     "name": "stdout",
     "output_type": "stream",
     "text": [
      "Amazon\n",
      "Recruiter              2\n",
      "Technical Recruiter    1\n",
      "Name: Position, dtype: int64\n",
      "Edureka\n",
      "Senior Associate - HR Operations    1\n",
      "Name: Position, dtype: int64\n",
      "Flipkart\n",
      "Engineering Recruiter    1\n",
      "Director HR              1\n",
      "Name: Position, dtype: int64\n",
      "Google\n",
      "Recruiter-Google Cloud                   1\n",
      "Techincal Recruiter Google Cloud Apac    1\n",
      "HR Manager                               1\n",
      "Name: Position, dtype: int64\n",
      "Ola (ANI Technologies Pvt. Ltd)\n",
      "HR Manager    1\n",
      "Name: Position, dtype: int64\n",
      "Uber\n",
      "Senior Technical Recruiter     1\n",
      "Technical Recruiter - EMEA     1\n",
      "Name: Position, dtype: int64\n"
     ]
    }
   ],
   "source": [
    "\n",
    "for index in Fav_cmpany.index:\n",
    "    \n",
    "        \n",
    "        \n",
    "    print(Fav_cmpany[index])\n",
    "    print(HRs.get_group(Fav_cmpany[index]).Position.value_counts())\n",
    "    "
   ]
  },
  {
   "cell_type": "code",
   "execution_count": 127,
   "metadata": {},
   "outputs": [
    {
     "name": "stdout",
     "output_type": "stream",
     "text": [
      "Amazon\n",
      "Recruiter              2\n",
      "Technical Recruiter    1\n",
      "Name: Position, dtype: int64\n",
      "Edureka\n",
      "Senior Associate - HR Operations    1\n",
      "Name: Position, dtype: int64\n",
      "Flipkart\n",
      "Engineering Recruiter    1\n",
      "Director HR              1\n",
      "Name: Position, dtype: int64\n",
      "Google\n",
      "Techincal Recruiter Google Cloud Apac    1\n",
      "Recruiter-Google Cloud                   1\n",
      "HR Manager                               1\n",
      "Name: Position, dtype: int64\n",
      "Ola (ANI Technologies Pvt. Ltd)\n",
      "HR Manager    1\n",
      "Name: Position, dtype: int64\n",
      "Uber\n",
      "Technical Recruiter - EMEA     1\n",
      "Senior Technical Recruiter     1\n",
      "Name: Position, dtype: int64\n"
     ]
    }
   ],
   "source": [
    "\n",
    "    \n"
   ]
  }
 ],
 "metadata": {
  "kernelspec": {
   "display_name": "Python 3",
   "language": "python",
   "name": "python3"
  },
  "language_info": {
   "codemirror_mode": {
    "name": "ipython",
    "version": 3
   },
   "file_extension": ".py",
   "mimetype": "text/x-python",
   "name": "python",
   "nbconvert_exporter": "python",
   "pygments_lexer": "ipython3",
   "version": "3.6.5"
  }
 },
 "nbformat": 4,
 "nbformat_minor": 2
}
